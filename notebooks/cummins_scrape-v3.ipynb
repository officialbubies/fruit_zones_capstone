{
 "cells": [
  {
   "cell_type": "code",
   "execution_count": null,
   "id": "d0f26f16",
   "metadata": {},
   "outputs": [],
   "source": [
    "import requests\n",
    "from bs4 import BeautifulSoup as BS\n",
    "import pandas as pd\n",
    "from random import randint\n",
    "from time import sleep"
   ]
  },
  {
   "cell_type": "code",
   "execution_count": null,
   "id": "a9a492a9",
   "metadata": {
    "scrolled": true
   },
   "outputs": [],
   "source": [
    "# Create fruit tree names Dataframe\n",
    "fruit_trees_df = pd.DataFrame()\n",
    "\n",
    "# Need to iterate through fruit category and append to URL.\n",
    "fruit_pages = ['Apple','Peach','Plum','Pear','Nectarine','Cherry','Apricot']\n",
    "\n",
    "# iterate through fruit_pages category names, append to url AFTER zone iteration.\n",
    "for cat in fruit_pages:\n",
    "\n",
    "# Iterate through zones 3-9 pages\n",
    "    for zone in range(3,10):\n",
    "        zone_num = str(zone)\n",
    "        base_url = f'https://www.cumminsnursery.com/buy-trees/index.php?type=tree&year=year1&view=list&zone=' + zone_num + '&category=' + cat + '&subcategory='\n",
    "        print(base_url)\n",
    "        response = requests.get(base_url)\n",
    "        soup = BS(response.text)\n",
    "        tag_text = soup.find('table', attrs={'class':'ui celled table'}).find_all('a')\n",
    "        raw_name = [x.text for x in tag_text]\n",
    "\n",
    "    # keep only fruit name\n",
    "        name_list = [name.split(' on')[0] for name in raw_name]\n",
    "\n",
    "    # remove duplicates and output to new list 'final_fruit'\n",
    "        final_fruit = []\n",
    "        for fruitname in name_list:\n",
    "            if fruitname not in final_fruit:\n",
    "                final_fruit.append(fruitname)\n",
    "\n",
    "     # make lists lengths match, fill space with blanks   \n",
    "        for index in range(len(final_fruit), 200):\n",
    "            final_fruit.append('')\n",
    "\n",
    "     # create associated zone columns in Apples Dataframe each loop around   \n",
    "        fruit_trees_df[cat + zone_num] = final_fruit\n",
    "#        fruit_trees_df['cat'] = cat\n",
    "#        fruit_trees_df['zone_' + zone_num] = True\n",
    "\n",
    "            \n",
    "         \n"
   ]
  },
  {
   "cell_type": "code",
   "execution_count": null,
   "id": "d26a3516",
   "metadata": {},
   "outputs": [],
   "source": [
    "# print dataframe to csv\n",
    "#fruit_trees_df.to_csv('/home/nhac/Documents/NSS/Python/capstone/cummins_scrape_1.csv', index=False)"
   ]
  },
  {
   "cell_type": "code",
   "execution_count": null,
   "id": "f524b1d1",
   "metadata": {},
   "outputs": [],
   "source": [
    "fruit_trees_df"
   ]
  },
  {
   "cell_type": "code",
   "execution_count": null,
   "id": "938b0b5a",
   "metadata": {},
   "outputs": [],
   "source": []
  }
 ],
 "metadata": {
  "kernelspec": {
   "display_name": "Python 3 (ipykernel)",
   "language": "python",
   "name": "python3"
  },
  "language_info": {
   "codemirror_mode": {
    "name": "ipython",
    "version": 3
   },
   "file_extension": ".py",
   "mimetype": "text/x-python",
   "name": "python",
   "nbconvert_exporter": "python",
   "pygments_lexer": "ipython3",
   "version": "3.9.13"
  }
 },
 "nbformat": 4,
 "nbformat_minor": 5
}
