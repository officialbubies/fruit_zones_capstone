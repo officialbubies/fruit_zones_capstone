{
 "cells": [
  {
   "cell_type": "code",
   "execution_count": null,
   "id": "a1137c9d",
   "metadata": {},
   "outputs": [],
   "source": [
    "from shapely.geometry import Point\n",
    "import pandas as pd\n",
    "import geopandas as gpd\n",
    "import matplotlib.pyplot as plt\n",
    "import folium\n",
    "from folium.plugins import MarkerCluster\n",
    "from folium.plugins import HeatMap\n",
    "from folium import IFrame\n",
    "from folium import Map, FeatureGroup, Marker, LayerControl, Popup\n"
   ]
  },
  {
   "cell_type": "code",
   "execution_count": null,
   "id": "91ab9542",
   "metadata": {},
   "outputs": [],
   "source": [
    "# read in CSV from webscrape\n",
    "cummins_df = pd.read_csv('/home/nhac/Documents/NSS/Python/capstone/cummins_scrape_1.csv')\n",
    "cummins_df.head()"
   ]
  },
  {
   "cell_type": "code",
   "execution_count": null,
   "id": "9ffa7d1a",
   "metadata": {
    "scrolled": true
   },
   "outputs": [],
   "source": [
    "# explore loop strategy\n",
    "for i in range(1, 4):\n",
    "    for j in range(2, 5):\n",
    "        print('zone' + str(i) + 'zone' + str(j))"
   ]
  },
  {
   "cell_type": "code",
   "execution_count": null,
   "id": "119446c4",
   "metadata": {},
   "outputs": [],
   "source": [
    "# more explore loop strategy\n",
    "empty_list = []\n",
    "for i in range(3, 10):\n",
    "    for j in ['Apple','Peach','Plum','Pear','Nectarine','Cherry','Apricot']:       \n",
    "        globals()[j + str(i)] = []\n",
    "        "
   ]
  },
  {
   "cell_type": "code",
   "execution_count": null,
   "id": "80082b82",
   "metadata": {},
   "outputs": [],
   "source": [
    "# test for results calling column and copying \n",
    "poop = cummins_df[['Apple3']].copy()\n",
    "poop"
   ]
  },
  {
   "cell_type": "code",
   "execution_count": null,
   "id": "ba018954",
   "metadata": {
    "scrolled": true
   },
   "outputs": [],
   "source": [
    "# Build loop to grab columns and data from cummins_df and output to dataframe\n",
    "\n",
    "fruit_list = pd.DataFrame()     # create empty dataframe to append results\n",
    "for i in range(3,10):     # iterate through numbers to assign for zone\n",
    "    for j in ['Apple','Peach','Plum','Pear','Nectarine','Cherry','Apricot']:     # for every fruit type names\n",
    "        col_name = j + str(i)     # concat zone number to fruit type name to get matching column name in cummins_df (Apple3, Apple4, etc.)\n",
    "        tmp_f_list = cummins_df[[col_name]].copy()     # tmp list with column name matching column name (variable)\n",
    "        tmp_f_list = tmp_f_list[tmp_f_list[col_name].notna()]     # drop the NaNs from the list for later list concat\n",
    "        tmp_f_list = tmp_f_list.rename(columns={col_name:'fruit_name'})     # rename the variable column name, with static name\n",
    "        tmp_f_list['zone'] = i     # add a column to the tmp DF and populate the column with variable RANGE number\n",
    "        tmp_f_list[['type']] = j     # add a column to the tmp DF and populate with variable fruit type name\n",
    "        fruit_list = pd.concat([fruit_list, tmp_f_list])   # append results from tmp_f_list to previously empty df, fruit_list"
   ]
  },
  {
   "cell_type": "code",
   "execution_count": null,
   "id": "8ee11554",
   "metadata": {
    "scrolled": false
   },
   "outputs": [],
   "source": [
    "# reset index\n",
    "fruit_list = fruit_list.reset_index(drop=True)\n",
    "fruit_list.head()\n"
   ]
  },
  {
   "cell_type": "code",
   "execution_count": null,
   "id": "ef73d5c5",
   "metadata": {},
   "outputs": [],
   "source": [
    "print('Success!')"
   ]
  },
  {
   "cell_type": "code",
   "execution_count": null,
   "id": "9c4d74cc",
   "metadata": {},
   "outputs": [],
   "source": [
    "# to back up/flat file CSV\n",
    "#fruit_list.to_csv('fruit_list.csv')"
   ]
  },
  {
   "cell_type": "code",
   "execution_count": null,
   "id": "4dc751e6",
   "metadata": {},
   "outputs": [],
   "source": [
    "# read in hardiness zones geojson\n",
    "geo_h_zones = gpd.read_file('../data/us-hardiness-zones_1291.geojson')"
   ]
  },
  {
   "cell_type": "code",
   "execution_count": null,
   "id": "0c6443d7",
   "metadata": {},
   "outputs": [],
   "source": [
    "# normalize column names for merge\n",
    "geo_h_zones = geo_h_zones.rename(columns={'name':'zone'})"
   ]
  },
  {
   "cell_type": "code",
   "execution_count": null,
   "id": "ff625b90",
   "metadata": {},
   "outputs": [],
   "source": [
    "# CRS to EPSG\n",
    "geo_h_zones = geo_h_zones.to_crs(epsg=4326)"
   ]
  },
  {
   "cell_type": "code",
   "execution_count": null,
   "id": "671359db",
   "metadata": {},
   "outputs": [],
   "source": [
    "# check for GeoDataFrame\n",
    "type(geo_h_zones)"
   ]
  },
  {
   "cell_type": "code",
   "execution_count": null,
   "id": "4677f15e",
   "metadata": {},
   "outputs": [],
   "source": [
    "# convert polys to centroids from geojson\n",
    "centroid_df = geo_h_zones.geometry.centroid.to_frame(name='centroid')"
   ]
  },
  {
   "cell_type": "code",
   "execution_count": null,
   "id": "3faaad20",
   "metadata": {},
   "outputs": [],
   "source": [
    "# join geojson with newly created centroids\n",
    "geo_df = pd.concat([geo_h_zones, centroid_df] , axis=1)"
   ]
  },
  {
   "cell_type": "code",
   "execution_count": null,
   "id": "0a9d579e",
   "metadata": {
    "scrolled": true
   },
   "outputs": [],
   "source": [
    "# normalize 'zone' column type to int for merge\n",
    "geo_df.zone = geo_df.zone.astype(int)"
   ]
  },
  {
   "cell_type": "code",
   "execution_count": null,
   "id": "6baa0d58",
   "metadata": {},
   "outputs": [],
   "source": [
    "# merge fruit data with geo data on 'zone'\n",
    "all_frame = pd.merge(fruit_list, geo_df, how='inner', on='zone')"
   ]
  },
  {
   "cell_type": "code",
   "execution_count": null,
   "id": "f0c6643b",
   "metadata": {
    "scrolled": false
   },
   "outputs": [],
   "source": [
    "# Extract lat and lon from centroid, insert into new columns\n",
    "all_frame['lon'] = all_frame.centroid.apply(lambda p: p.x)\n",
    "all_frame['lat'] = all_frame.centroid.apply(lambda p: p.y)"
   ]
  },
  {
   "cell_type": "code",
   "execution_count": null,
   "id": "9d61959e",
   "metadata": {},
   "outputs": [],
   "source": [
    "# View for reference\n",
    "#all_frame"
   ]
  },
  {
   "cell_type": "code",
   "execution_count": null,
   "id": "ec552749",
   "metadata": {
    "scrolled": false
   },
   "outputs": [],
   "source": [
    "# Vew for reference\n",
    "#all_frame.dtypes"
   ]
  },
  {
   "cell_type": "code",
   "execution_count": null,
   "id": "1f6f78ba",
   "metadata": {},
   "outputs": [],
   "source": [
    "all_frame.centroid = all_frame.centroid.astype(str)"
   ]
  },
  {
   "cell_type": "code",
   "execution_count": null,
   "id": "919bb29d",
   "metadata": {},
   "outputs": [],
   "source": [
    "z3 = all_frame[all_frame['zone'] == 3]"
   ]
  },
  {
   "cell_type": "code",
   "execution_count": null,
   "id": "2b6e66de",
   "metadata": {},
   "outputs": [],
   "source": [
    "# View for reference\n",
    "#geo_h_zones"
   ]
  },
  {
   "cell_type": "code",
   "execution_count": null,
   "id": "51e4ba24",
   "metadata": {},
   "outputs": [],
   "source": [
    "maps_fruit_list = all_frame.drop_duplicates(subset=['fruit_name','zone','type'])"
   ]
  },
  {
   "cell_type": "code",
   "execution_count": null,
   "id": "fca03c21",
   "metadata": {},
   "outputs": [],
   "source": [
    "choro_count = maps_fruit_list.groupby('zone').count().reset_index()"
   ]
  },
  {
   "cell_type": "code",
   "execution_count": null,
   "id": "431c9d88",
   "metadata": {},
   "outputs": [],
   "source": [
    "choro_count.zone = choro_count.zone.astype(str)"
   ]
  },
  {
   "cell_type": "code",
   "execution_count": null,
   "id": "af1555fb",
   "metadata": {},
   "outputs": [],
   "source": [
    "choro_count = pd.merge(geo_h_zones, choro_count, how='inner', on='zone')"
   ]
  },
  {
   "cell_type": "code",
   "execution_count": null,
   "id": "e2217ca8",
   "metadata": {
    "scrolled": true
   },
   "outputs": [],
   "source": [
    "# View for reference\n",
    "#choro_count"
   ]
  },
  {
   "cell_type": "code",
   "execution_count": null,
   "id": "72011ec6",
   "metadata": {},
   "outputs": [],
   "source": [
    "geometry = geo_h_zones['geometry']\n",
    "simplified_geometry = geometry.simplify(tolerance=0.125)\n",
    "geo_h_zones['geometry'] = simplified_geometry"
   ]
  },
  {
   "cell_type": "code",
   "execution_count": null,
   "id": "433d1c4e",
   "metadata": {},
   "outputs": [],
   "source": [
    "# Create a Folium map\n",
    " \n",
    "m = folium.Map(location=(31.51073, -96.4247), \n",
    "               zoom_start=4, \n",
    "               tiles='openstreetmap', \n",
    "               width=\"100%\", \n",
    "               height=\"100%\",\n",
    "               no_wrap=True,\n",
    "               min_zoom=4,\n",
    "               max_zoom=6\n",
    "              )\n",
    "\n",
    "# Add the polygons to the map (maybe redundant)\n",
    "geojson = geo_h_zones.to_crs(epsg=4326).to_json()\n",
    "\n",
    "# add chloropleth layer\n",
    "folium.Choropleth(\n",
    "    geo_data=geojson,\n",
    "    name='Hardiness Zones',\n",
    "    data=choro_count,\n",
    "    columns=['zone','fruit_name'],\n",
    "    fill_color='YlGn',\n",
    "    key_on='feature.properties.zone',\n",
    "    legend_name='Total Number of Fruit Types'\n",
    ").add_to(m)\n",
    "\n",
    "folium.Choropleth(\n",
    "    geo_data=\"data2.json\",\n",
    "    data=\"data2.csv\",\n",
    "    columns=[\"region\", \"value\"],\n",
    "    key_on\n",
    "# Create a FeatureGroup object\n",
    "#fg = folium.map.FeatureGroup()\n",
    "\n",
    "# Iterate through the \"zone\" column of the data frame\n",
    "for z in maps_fruit_list['zone']:\n",
    "    # Select rows that have the current category\n",
    "    items = maps_fruit_list[maps_fruit_list['zone'] == z]\n",
    "    \n",
    "    # Place the items in an HTML table\n",
    "    html_table = \"<table>\"\n",
    "    for i, row in items.iterrows():\n",
    "        html_table += \"<tr><td>{}</td><td>{}</td><td>{}</td></tr>\".format(row['fruit_name'], row['type'], row['zone'])\n",
    "    html_table += \"</table>\"\n",
    "\n",
    "    # Add a marker to the map for the zone centroid    \n",
    "    marker = folium.Marker(location=[row['lat'], row['lon']],\n",
    "                           popup=folium.Popup(html_table, \n",
    "                                              max_height=300, \n",
    "                                              scroll_wheel=True, \n",
    "                                              clustered_marker=True),\n",
    "                          text=\"wtf\")\n",
    "    marker.add_to(m)\n",
    "\n",
    "folium.LayerControl().add_to(m)\n"
   ]
  },
  {
   "cell_type": "code",
   "execution_count": null,
   "id": "9ee0c58b",
   "metadata": {
    "scrolled": false
   },
   "outputs": [],
   "source": [
    "m"
   ]
  },
  {
   "cell_type": "code",
   "execution_count": null,
   "id": "14003277",
   "metadata": {},
   "outputs": [],
   "source": []
  },
  {
   "cell_type": "code",
   "execution_count": null,
   "id": "9c98edf2",
   "metadata": {},
   "outputs": [],
   "source": []
  },
  {
   "cell_type": "code",
   "execution_count": null,
   "id": "41fa8129",
   "metadata": {},
   "outputs": [],
   "source": []
  }
 ],
 "metadata": {
  "kernelspec": {
   "display_name": "Python 3 (ipykernel)",
   "language": "python",
   "name": "python3"
  },
  "language_info": {
   "codemirror_mode": {
    "name": "ipython",
    "version": 3
   },
   "file_extension": ".py",
   "mimetype": "text/x-python",
   "name": "python",
   "nbconvert_exporter": "python",
   "pygments_lexer": "ipython3",
   "version": "3.9.13"
  }
 },
 "nbformat": 4,
 "nbformat_minor": 5
}
