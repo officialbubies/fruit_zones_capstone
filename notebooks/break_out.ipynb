{
 "cells": [
  {
   "cell_type": "code",
   "execution_count": null,
   "id": "a1137c9d",
   "metadata": {},
   "outputs": [],
   "source": [
    "from shapely.geometry import Point\n",
    "import pandas as pd\n",
    "import geopandas as gpd\n",
    "import matplotlib.pyplot as plt\n",
    "import folium\n",
    "from folium.plugins import MarkerCluster\n",
    "from folium import IFrame\n",
    "from folium import Map, FeatureGroup, Marker, LayerControl, Popup"
   ]
  },
  {
   "cell_type": "code",
   "execution_count": null,
   "id": "91ab9542",
   "metadata": {},
   "outputs": [],
   "source": [
    "# read in CSV from webscrape\n",
    "cummins_df = pd.read_csv('/home/nhac/Documents/NSS/Python/capstone/cummins_scrape_1.csv')\n",
    "cummins_df.head()"
   ]
  },
  {
   "cell_type": "code",
   "execution_count": null,
   "id": "ba018954",
   "metadata": {
    "scrolled": true
   },
   "outputs": [],
   "source": [
    "# Build loop to grab columns and data from cummins_df and output to dataframe\n",
    "\n",
    "fruit_list = pd.DataFrame()     # create empty dataframe to append results\n",
    "for i in range(3,10):     # iterate through numbers to assign for zone\n",
    "    for j in ['Apple','Peach','Plum','Pear','Nectarine','Cherry','Apricot']:     # for every fruit type names\n",
    "        col_name = j + str(i)     # concat zone number to fruit type name to get matching column name in cummins_df (Apple3, Apple4, etc.)\n",
    "        tmp_f_list = cummins_df[[col_name]].copy()     # tmp list with column name matching column name (variable)\n",
    "        tmp_f_list = tmp_f_list[tmp_f_list[col_name].notna()]     # drop the NaNs from the list for later list concat\n",
    "        tmp_f_list = tmp_f_list.rename(columns={col_name:'fruit_name'})     # rename the variable column name, with static name\n",
    "        tmp_f_list['zone'] = i     # add a column to the tmp DF and populate the column with variable RANGE number\n",
    "        tmp_f_list[['type']] = j     # add a column to the tmp DF and populate with variable fruit type name\n",
    "        fruit_list = pd.concat([fruit_list, tmp_f_list])   # append results from tmp_f_list to previously empty df, fruit_list"
   ]
  },
  {
   "cell_type": "code",
   "execution_count": null,
   "id": "8ee11554",
   "metadata": {
    "scrolled": false
   },
   "outputs": [],
   "source": [
    "# reset index\n",
    "fruit_list = fruit_list.reset_index(drop=True)\n",
    "fruit_list.head()"
   ]
  },
  {
   "cell_type": "code",
   "execution_count": null,
   "id": "4dc751e6",
   "metadata": {},
   "outputs": [],
   "source": [
    "# read in hardiness zones geojson\n",
    "geo_h_zones = gpd.read_file('../data/us-hardiness-zones_1291.geojson')"
   ]
  },
  {
   "cell_type": "code",
   "execution_count": null,
   "id": "0c6443d7",
   "metadata": {},
   "outputs": [],
   "source": [
    "# normalize column names for merge\n",
    "geo_h_zones = geo_h_zones.rename(columns={'name':'zone'})"
   ]
  },
  {
   "cell_type": "code",
   "execution_count": null,
   "id": "ff625b90",
   "metadata": {},
   "outputs": [],
   "source": [
    "# CRS to EPSG\n",
    "geo_h_zones = geo_h_zones.to_crs(epsg=4326)"
   ]
  },
  {
   "cell_type": "code",
   "execution_count": null,
   "id": "671359db",
   "metadata": {},
   "outputs": [],
   "source": [
    "# check for GeoDataFrame\n",
    "type(geo_h_zones)"
   ]
  },
  {
   "cell_type": "code",
   "execution_count": null,
   "id": "4677f15e",
   "metadata": {},
   "outputs": [],
   "source": [
    "# convert polys to centroids from geojson\n",
    "centroid_df = geo_h_zones.geometry.centroid.to_frame(name='centroid')"
   ]
  },
  {
   "cell_type": "code",
   "execution_count": null,
   "id": "3faaad20",
   "metadata": {},
   "outputs": [],
   "source": [
    "# join geojson with newly created centroids\n",
    "geo_df = pd.concat([geo_h_zones, centroid_df] , axis=1)"
   ]
  },
  {
   "cell_type": "code",
   "execution_count": null,
   "id": "0a9d579e",
   "metadata": {
    "scrolled": true
   },
   "outputs": [],
   "source": [
    "# normalize 'zone' column type to int for merge\n",
    "geo_df.zone = geo_df.zone.astype(int)"
   ]
  },
  {
   "cell_type": "code",
   "execution_count": null,
   "id": "6baa0d58",
   "metadata": {},
   "outputs": [],
   "source": [
    "# merge fruit data with geo data on 'zone'\n",
    "all_frame = pd.merge(fruit_list, geo_df, how='inner', on='zone')"
   ]
  },
  {
   "cell_type": "code",
   "execution_count": null,
   "id": "7156d145",
   "metadata": {
    "scrolled": true
   },
   "outputs": [],
   "source": [
    "all_frame"
   ]
  },
  {
   "cell_type": "code",
   "execution_count": null,
   "id": "1158c50a",
   "metadata": {},
   "outputs": [],
   "source": [
    "#all_frame.to_csv('../data/fruit_var_hardy.csv')"
   ]
  },
  {
   "cell_type": "code",
   "execution_count": null,
   "id": "f0c6643b",
   "metadata": {
    "scrolled": false
   },
   "outputs": [],
   "source": [
    "# Extract lat and lon from centroid, insert into new columns\n",
    "all_frame['lon'] = all_frame.centroid.apply(lambda p: p.x)\n",
    "all_frame['lat'] = all_frame.centroid.apply(lambda p: p.y)"
   ]
  },
  {
   "cell_type": "code",
   "execution_count": null,
   "id": "1f6f78ba",
   "metadata": {},
   "outputs": [],
   "source": [
    "all_frame.centroid = all_frame.centroid.astype(str)"
   ]
  },
  {
   "cell_type": "code",
   "execution_count": null,
   "id": "919bb29d",
   "metadata": {},
   "outputs": [],
   "source": [
    "z3 = all_frame[all_frame['zone'] == 3]"
   ]
  },
  {
   "cell_type": "code",
   "execution_count": null,
   "id": "51e4ba24",
   "metadata": {},
   "outputs": [],
   "source": [
    "maps_fruit_list = all_frame.drop_duplicates(subset=['fruit_name','zone','type'])"
   ]
  },
  {
   "cell_type": "code",
   "execution_count": null,
   "id": "fca03c21",
   "metadata": {},
   "outputs": [],
   "source": [
    "choro_count = maps_fruit_list.groupby('zone').count().reset_index()"
   ]
  },
  {
   "cell_type": "code",
   "execution_count": null,
   "id": "431c9d88",
   "metadata": {},
   "outputs": [],
   "source": [
    "choro_count.zone = choro_count.zone.astype(str)"
   ]
  },
  {
   "cell_type": "code",
   "execution_count": null,
   "id": "af1555fb",
   "metadata": {},
   "outputs": [],
   "source": [
    "choro_count = pd.merge(geo_h_zones, choro_count, how='inner', on='zone')"
   ]
  },
  {
   "cell_type": "code",
   "execution_count": null,
   "id": "0d50c099",
   "metadata": {},
   "outputs": [],
   "source": [
    "choro_count.geometry = choro_count.geometry_x"
   ]
  },
  {
   "cell_type": "code",
   "execution_count": null,
   "id": "d9b3c17d",
   "metadata": {},
   "outputs": [],
   "source": []
  },
  {
   "cell_type": "code",
   "execution_count": null,
   "id": "72011ec6",
   "metadata": {},
   "outputs": [],
   "source": [
    "geometry = geo_h_zones['geometry']\n",
    "simplified_geometry = geometry.simplify(tolerance=0.125)\n",
    "geo_h_zones['geometry'] = simplified_geometry"
   ]
  },
  {
   "cell_type": "code",
   "execution_count": null,
   "id": "7b937f72",
   "metadata": {},
   "outputs": [],
   "source": [
    "# read in state lines geojson\n",
    "state_lines = gpd.read_file('/home/nhac/Documents/NSS/Python/capstone/data/census_state_boundaries/cb_2021_us_state_500k.shp')\n",
    "geojson2 = state_lines.to_crs(epsg=4326).to_json()"
   ]
  },
  {
   "cell_type": "code",
   "execution_count": null,
   "id": "1879d655",
   "metadata": {
    "scrolled": true
   },
   "outputs": [],
   "source": [
    "state_lines['State'] = state_lines.NAME\n",
    "state_lines.head()"
   ]
  },
  {
   "cell_type": "code",
   "execution_count": null,
   "id": "bc151a5a",
   "metadata": {},
   "outputs": [],
   "source": [
    "# read in Food Access Data xlsx\n",
    "food_acc_raw = pd.read_excel('/home/nhac/Documents/NSS/Python/capstone/data/FoodAccessResearchAtlasData2019.xlsx', sheet_name=2)\n",
    "# read population estimates\n",
    "pop_est_raw = pd.read_csv('../data/pop-est2019-alldata.csv')"
   ]
  },
  {
   "cell_type": "code",
   "execution_count": null,
   "id": "bd545bad",
   "metadata": {},
   "outputs": [],
   "source": [
    "pop_2019 = pop_est_raw[['STATE','NAME','POPESTIMATE2019']]"
   ]
  },
  {
   "cell_type": "code",
   "execution_count": null,
   "id": "139f779b",
   "metadata": {},
   "outputs": [],
   "source": [
    "# function to view column names in a dataframe\n",
    "def getColumns(df):\n",
    "    for col in df.columns:\n",
    "        print(col)"
   ]
  },
  {
   "cell_type": "code",
   "execution_count": null,
   "id": "244245a2",
   "metadata": {},
   "outputs": [],
   "source": [
    "pop_2019.head()"
   ]
  },
  {
   "cell_type": "code",
   "execution_count": null,
   "id": "5f8ed2d0",
   "metadata": {},
   "outputs": [],
   "source": []
  },
  {
   "cell_type": "code",
   "execution_count": null,
   "id": "be27b46e",
   "metadata": {},
   "outputs": [],
   "source": [
    "# merge food access data with state lines geodata\n",
    "food_geo = pd.merge(state_lines, food_acc_raw, how='inner', on='State')"
   ]
  },
  {
   "cell_type": "code",
   "execution_count": null,
   "id": "251a950d",
   "metadata": {},
   "outputs": [],
   "source": [
    "low_acc_pop = food_geo.groupby('NAME')['LALOWI1_10'].sum().astype(int).to_frame()\n"
   ]
  },
  {
   "cell_type": "code",
   "execution_count": null,
   "id": "cf2aaf3c",
   "metadata": {},
   "outputs": [],
   "source": [
    "states_pop = pd.merge(pop_2019, low_acc_pop, on='NAME', how='inner')"
   ]
  },
  {
   "cell_type": "code",
   "execution_count": null,
   "id": "4fed6aac",
   "metadata": {},
   "outputs": [],
   "source": [
    "states_pop['pct'] = states_pop['LALOWI1_10'] / states_pop['POPESTIMATE2019'] * 100"
   ]
  },
  {
   "cell_type": "code",
   "execution_count": null,
   "id": "0cbaaf33",
   "metadata": {
    "scrolled": true
   },
   "outputs": [],
   "source": [
    "states_pop"
   ]
  },
  {
   "cell_type": "code",
   "execution_count": null,
   "id": "8817f7a3",
   "metadata": {},
   "outputs": [],
   "source": []
  },
  {
   "cell_type": "code",
   "execution_count": null,
   "id": "32dd7144",
   "metadata": {},
   "outputs": [],
   "source": [
    "state_pct_df = pd.merge(state_lines, states_pop, on='NAME', how='inner' )"
   ]
  },
  {
   "cell_type": "code",
   "execution_count": null,
   "id": "6ad3a18c",
   "metadata": {},
   "outputs": [],
   "source": [
    "gdf = gpd.GeoDataFrame(state_pct_df, geometry='geometry')"
   ]
  },
  {
   "cell_type": "code",
   "execution_count": null,
   "id": "2beffffa",
   "metadata": {},
   "outputs": [],
   "source": [
    "#gdf.to_csv('../data/pct_LALOWI1_10.csv')"
   ]
  },
  {
   "cell_type": "code",
   "execution_count": null,
   "id": "bf8b28a3",
   "metadata": {},
   "outputs": [],
   "source": [
    "import mapclassify   # use this for quantile separation for visual clarity\n",
    "import geoplot as gplt\n",
    "import geoplot.crs as gcrs"
   ]
  },
  {
   "cell_type": "code",
   "execution_count": null,
   "id": "f305761f",
   "metadata": {},
   "outputs": [],
   "source": [
    "min_lon, max_lon = -125, -65\n",
    "min_lat, max_lat = 24, 50\n",
    "ax = gplt.choropleth(gdf,\n",
    "                   hue=\"pct\",\n",
    "                   #scheme=mapclassify.Quantiles(fruit_intake_gdf[\"pct_rec_f_in\"], k=4),\n",
    "                   cmap=\"gist_earth\", #edgecolor=\"grey\",\n",
    "                   extent=(-172,10, 10,75),\n",
    "                   projection=gcrs.WebMercator(),\n",
    "                   #legend_labels=[\"Least Met Recommended\", \"Somewhat Met\", \"Better\",\"Best\"],\n",
    "                   #legend_kwargs={\"loc\":\"best\",\n",
    "                   #               \"fontsize\": \"small\",\n",
    "                   #              \"title\":\"% of Sample Size\",\n",
    "                   #               \"title_fontsize\":\"medium\"},\n",
    "                   figsize=(8,6), legend=True);\n",
    "\n",
    "gplt.polyplot(state_lines, \n",
    "              linewidth=0.8,\n",
    "              ax=ax\n",
    ")\n",
    "ax.set_extent((min_lon, max_lon, min_lat, max_lat))\n",
    "ax.set_facecolor('#2499BE')\n",
    "#ax.set_axis_bgcolor(\"#2499BE\")\n",
    "\n",
    "plt.title(\"Percent of State Population with Low Access and Income\", \n",
    "          fontdict={\"fontsize\": 14}, \n",
    "          pad=12,\n",
    "          color='#4c4c4c');"
   ]
  },
  {
   "cell_type": "code",
   "execution_count": null,
   "id": "6f1d6d08",
   "metadata": {},
   "outputs": [],
   "source": [
    "pops = states_pop.groupby('NAME')['LAPOP1_10'].sum().astype(int).to_frame().reset_index()"
   ]
  },
  {
   "cell_type": "markdown",
   "id": "9cb4155a",
   "metadata": {},
   "source": [
    "### Folium"
   ]
  },
  {
   "cell_type": "code",
   "execution_count": null,
   "id": "433d1c4e",
   "metadata": {},
   "outputs": [],
   "source": [
    "# Create a Folium map\n",
    "m = folium.Map(location=(31.51073, -96.4247),\n",
    "               #width=1024,\n",
    "               #height=768,\n",
    "               zoom_start=4, \n",
    "               tiles='OpenStreetMap', \n",
    "               #width=\"100%\", \n",
    "               #height=\"100%\",\n",
    "               no_wrap=True,\n",
    "               min_zoom=4,\n",
    "               max_zoom=6\n",
    "              )\n",
    "# Add the polygons to the map (maybe redundant)\n",
    "geojson = geo_h_zones.to_crs(epsg=4326).to_json()\n",
    "\n",
    "# add chloropleth layer for hardiness zones\n",
    "folium.Choropleth(\n",
    "    geo_data=geojson,\n",
    "    name='Hardiness Zones',\n",
    "    data=choro_count,\n",
    "    columns=['zone','fruit_name'],\n",
    "    fill_color='PuBuGn',\n",
    "    fill_opacity=0.6,\n",
    "    weight=3,\n",
    "    key_on='feature.properties.zone',\n",
    "    legend_name='Total Number of Fruit Types',\n",
    "    legend_loc='upper left'\n",
    ").add_to(m)\n",
    "\n",
    "# add choropleth layer for food insecurity states\n",
    "folium.Choropleth(\n",
    "    geo_data=geojson2,\n",
    "    name='Low Access and Income',\n",
    "    data=gdf,\n",
    "    columns=[\"NAME\", \"pct\"],\n",
    "    key_on='feature.properties.NAME',\n",
    "    fill_color='YlOrRd',\n",
    "    fill_opacity=0.6,\n",
    "    line_opacity=0.2,\n",
    "    legend_name=\"Low Income and Access (Urb 1mi, Rur 10mi from grocery)\",\n",
    ").add_to(m)\n",
    "\n",
    "# Iterate through the \"zone\" column of the data frame\n",
    "for z in maps_fruit_list['zone']:\n",
    "    # Select rows that have the current category\n",
    "    items = maps_fruit_list[maps_fruit_list['zone'] == z]\n",
    "    \n",
    "    # Place the items in an HTML table\n",
    "    html_table = \"<table style='width:200px'>\"\n",
    "    for i, row in items.iterrows():\n",
    "        html_table += \"<tr><td>{}</td><td>{}</td><td>{}</td></tr>\".format(row['fruit_name'], row['type'], row['zone'])\n",
    "    html_table += \"</table>\"\n",
    "\n",
    "    # Add a marker to the map for the zone centroid    \n",
    "    marker = folium.Marker(location=[row['lat'], row['lon']],\n",
    "                           popup=folium.Popup(html_table, \n",
    "                                              max_height=300,\n",
    "                                              scroll_wheel=True),\n",
    "                          )\n",
    "    marker.add_to(m)\n",
    "\n",
    "folium.LayerControl().add_to(m)"
   ]
  },
  {
   "cell_type": "code",
   "execution_count": null,
   "id": "b520665e",
   "metadata": {
    "scrolled": true
   },
   "outputs": [],
   "source": [
    "m"
   ]
  },
  {
   "cell_type": "code",
   "execution_count": null,
   "id": "46d9fc75",
   "metadata": {},
   "outputs": [],
   "source": [
    "#m.save('../data/frt_lst_hardy.html')"
   ]
  },
  {
   "cell_type": "code",
   "execution_count": null,
   "id": "836a5f73",
   "metadata": {
    "scrolled": true
   },
   "outputs": [],
   "source": [
    "j = folium.Map(location=(31.51073, -96.4247), zoom_start=5, tiles='CartoDB positron')\n",
    "\n",
    "for _, r in maps_fruit_list.iterrows():\n",
    "    sim_geo = gpd.GeoSeries(r['geometry']).simplify(tolerance=0.2)\n",
    "    geo_j = sim_geo.to_json()\n",
    "    geo_j = folium.GeoJson(data=geo_j,\n",
    "                           style_function=lambda x: {'fillColor': 'orange'})\n",
    "    \n",
    "    folium.Popup(r['zone']).add_to(geo_j)\n",
    "    geo_j.add_to(m)\n",
    "\n",
    "\n",
    "for _, r in maps_fruit_list.iterrows():\n",
    "    lat = r['centroid'].y\n",
    "    lon = r['centroid'].x\n",
    "    folium.Marker(location=[lat, lon]),\n",
    "j"
   ]
  },
  {
   "cell_type": "code",
   "execution_count": null,
   "id": "8d4b1163",
   "metadata": {},
   "outputs": [],
   "source": [
    "maps_fruit_list.head()"
   ]
  },
  {
   "cell_type": "markdown",
   "id": "bd75e2a6",
   "metadata": {},
   "source": [
    "### Geoplot"
   ]
  },
  {
   "cell_type": "code",
   "execution_count": null,
   "id": "ecce6e6a",
   "metadata": {
    "scrolled": true
   },
   "outputs": [],
   "source": [
    "# map it using geoplot\n",
    "import mapclassify   # use this for quantile separation for visual clarity\n",
    "import geoplot as gplt\n",
    "import geoplot.crs as gcrs\n",
    "# set min and max lon and lat for USA map extents (zoom in)\n",
    "min_lon, max_lon = -125, -65\n",
    "min_lat, max_lat = 24, 50\n",
    "cmap = plt.cm.YlGn\n",
    "# plot map\n",
    "ax = ax = gplt.webmap(food_geo,\n",
    "                 figsize=(16, 8),\n",
    "                 projection=gcrs.WebMercator())\n",
    " \n",
    "gplt.choropleth(choro_count,\n",
    "                   hue=\"fruit_name\",\n",
    "                   scheme=mapclassify.Quantiles(choro_count['fruit_name'], k=10),\n",
    "                   cmap=cmap,\n",
    "                   alpha=0.6,\n",
    "                   #edgecolor=\"white\",\n",
    "                   extent=(-172,10, 10,75),\n",
    "                   projection=gcrs.AlbersEqualArea(),\n",
    "                   #legend_labels=['Zone 2','Zone 3','Zone 4','Zone 5','Zone 6','Zone 7','Zone 8','Zone 9'],\n",
    "                   legend_kwargs={\"loc\":'lower right',\n",
    "                                  \"fontsize\": \"small\",\n",
    "                                  \"title\":\"Number of Fruit Types\",\n",
    "                                  \"title_fontsize\":\"medium\"},\n",
    "                   #figsize=(16,8), \n",
    "                   legend=True,\n",
    "                   ax = ax)\n",
    "\n",
    "gplt.polyplot(state_lines, \n",
    "              linewidth=0.5,\n",
    "              ax=ax\n",
    ");\n",
    "\n",
    "ax.set_extent((min_lon, max_lon, min_lat, max_lat))\n",
    "ax.set_facecolor('lightgrey')\n",
    "plt.title(\"Regional Fruit Varieties Possible\", \n",
    "          fontdict={\"fontsize\": 14},\n",
    "          color='#4c4c4c',\n",
    "          pad=5);\n",
    "\n",
    "plt.savefig('../data/choropleth.png', dpi=300)\n"
   ]
  },
  {
   "cell_type": "code",
   "execution_count": null,
   "id": "d638babb",
   "metadata": {},
   "outputs": [],
   "source": []
  },
  {
   "cell_type": "markdown",
   "id": "0fc6ba1b",
   "metadata": {},
   "source": [
    "### Plotly"
   ]
  },
  {
   "cell_type": "code",
   "execution_count": null,
   "id": "27ddedd6",
   "metadata": {
    "scrolled": true
   },
   "outputs": [],
   "source": [
    "gdf.head()"
   ]
  },
  {
   "cell_type": "code",
   "execution_count": null,
   "id": "b7269f87",
   "metadata": {},
   "outputs": [],
   "source": [
    "import plotly.express as px\n",
    "import plotly.graph_objects as go\n",
    "import plotly.figure_factory as ff\n",
    "import json"
   ]
  },
  {
   "cell_type": "code",
   "execution_count": null,
   "id": "de2e6a10",
   "metadata": {},
   "outputs": [],
   "source": [
    "choro_count.head()"
   ]
  },
  {
   "cell_type": "code",
   "execution_count": null,
   "id": "75623957",
   "metadata": {},
   "outputs": [],
   "source": [
    "data = gdf\n",
    "with open('../data/gz_2010_us_040_00_500k.json') as f:\n",
    "    geo_json = json.load(f)\n",
    "    \n",
    "fig = px.choropleth(data, locations=\"STUSPS\", color=\"pct\",\n",
    "                    locationmode=\"USA-states\", \n",
    "                    geojson=geo_json, \n",
    "                    scope='usa',\n",
    "                    title=\"Low Income and Low Access Population\",\n",
    "                    color_continuous_scale=px.colors.sequential.RdPu,\n",
    "                    hover_data=['NAME','POPESTIMATE2019'],\n",
    "                    hover_name='NAME')\n",
    "\n",
    "fig.update_layout(height=768, width=1024)\n",
    "\n",
    "fig.update_layout(titlefont=dict(size=28, family='Droid Sans Mono', color='#000000'))\n",
    "\n",
    "fig.update_layout(coloraxis_colorbar=dict(\n",
    "    title=\"% of State Population\",\n",
    "    titlefont=dict(\n",
    "        family=\"Droid Sans Mono\",\n",
    "        size=16,\n",
    "        color=\"#000000\"\n",
    "    )\n",
    "))\n",
    "fig.add_scattergeo(\n",
    "    locations=data['STUSPS'],\n",
    "    locationmode='USA-states',\n",
    "    text=data['STUSPS'],\n",
    "    mode='text')\n",
    "\n",
    "fig.update_layout(\n",
    "    hoverlabel=dict(\n",
    "        font_size=16,\n",
    "        font_color=\"#ffffff\",\n",
    "        font_family='Droid Sans Mono'\n",
    "    )\n",
    ")\n",
    "fig.show()"
   ]
  },
  {
   "cell_type": "code",
   "execution_count": null,
   "id": "c3b3628c",
   "metadata": {},
   "outputs": [],
   "source": [
    "import plotly.io as pio\n",
    "pio.write_image(fig,'../data/LALOWI1_10.png')"
   ]
  },
  {
   "cell_type": "code",
   "execution_count": null,
   "id": "1f82d96a",
   "metadata": {},
   "outputs": [],
   "source": []
  }
 ],
 "metadata": {
  "kernelspec": {
   "display_name": "Python 3 (ipykernel)",
   "language": "python",
   "name": "python3"
  },
  "language_info": {
   "codemirror_mode": {
    "name": "ipython",
    "version": 3
   },
   "file_extension": ".py",
   "mimetype": "text/x-python",
   "name": "python",
   "nbconvert_exporter": "python",
   "pygments_lexer": "ipython3",
   "version": "3.9.13"
  }
 },
 "nbformat": 4,
 "nbformat_minor": 5
}
