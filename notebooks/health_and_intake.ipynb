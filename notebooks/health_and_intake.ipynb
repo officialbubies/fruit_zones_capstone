{
 "cells": [
  {
   "cell_type": "code",
   "execution_count": null,
   "id": "78417f67",
   "metadata": {},
   "outputs": [],
   "source": [
    "import pandas as pd\n",
    "import matplotlib.pyplot as plt\n",
    "import numpy as np \n",
    "import geopandas as gpd\n",
    "import geoplot as gplt\n",
    "import geoplot.crs as gcrs"
   ]
  },
  {
   "cell_type": "markdown",
   "id": "ce0fff2e",
   "metadata": {},
   "source": [
    "## Explore and Clean"
   ]
  },
  {
   "cell_type": "code",
   "execution_count": null,
   "id": "e4aabaa2",
   "metadata": {},
   "outputs": [],
   "source": [
    "#read in Intake DF CSV\n",
    "intake_df = pd.read_csv('../data/intake_df.csv')"
   ]
  },
  {
   "cell_type": "code",
   "execution_count": null,
   "id": "cef2c27d",
   "metadata": {},
   "outputs": [],
   "source": [
    "# reorganize results of table and place relevant columns\n",
    "fruit_intake_df = intake_df[['state','sample_size','pct_rec_f_in','med_f_in_freq']]\n",
    "# remove parenthesis number range in string\n",
    "fruit_intake_df['pct_rec_f_in'] = intake_df['pct_rec_f_in'].str[0:4]\n",
    "# convert to float\n",
    "fruit_intake_df['pct_rec_f_in'] = fruit_intake_df['pct_rec_f_in'].astype(float)\n",
    "# more floats\n",
    "fruit_intake_df['med_f_in_freq'] = fruit_intake_df['med_f_in_freq'].astype(float)\n",
    "# string fix to int\n",
    "fruit_intake_df['sample_size'] = fruit_intake_df['sample_size'].str.replace(',','')\n",
    "fruit_intake_df['sample_size'] = fruit_intake_df['sample_size'].astype(int)"
   ]
  },
  {
   "cell_type": "code",
   "execution_count": null,
   "id": "3306a528",
   "metadata": {},
   "outputs": [],
   "source": [
    "# bring in geodata for maps\n",
    "state_lines = gpd.read_file('/home/nhac/Documents/NSS/Python/projects/fruit_zones_capstone/data/gz_2010_us_040_00_500k.json')\n",
    "hardiness_zone = gpd.read_file('/home/nhac/Documents/NSS/Python/projects/fruit_zones_capstone/data/us-hardiness-zones_1291.geojson')"
   ]
  },
  {
   "cell_type": "code",
   "execution_count": null,
   "id": "da6b1ada",
   "metadata": {},
   "outputs": [],
   "source": [
    "# add column for geodataframe merge\n",
    "state_lines['state'] = state_lines['NAME']"
   ]
  },
  {
   "cell_type": "code",
   "execution_count": null,
   "id": "e0e98dd0",
   "metadata": {},
   "outputs": [],
   "source": [
    "# get lowest percent states\n",
    "low_pct = fruit_intake_df.sort_values(by='pct_rec_f_in')\n",
    "# maybe need these 5 for closer comparison later\n",
    "low_five = low_pct.head()\n",
    "low_five_geo = low_five.merge(state_lines, on='state', how='inner')"
   ]
  },
  {
   "cell_type": "code",
   "execution_count": null,
   "id": "a5ad154d",
   "metadata": {},
   "outputs": [],
   "source": [
    "# create geodataframe from the lowest five states\n",
    "low_five_geo = gpd.GeoDataFrame(low_five_geo, geometry='geometry')"
   ]
  },
  {
   "cell_type": "code",
   "execution_count": null,
   "id": "34000f4d",
   "metadata": {},
   "outputs": [],
   "source": [
    "low_pct.head()"
   ]
  },
  {
   "cell_type": "code",
   "execution_count": null,
   "id": "9f6714fb",
   "metadata": {},
   "outputs": [],
   "source": [
    "# map lowest 5, did not need above geoDF...\n",
    "ax = low_pct.plot.bar(figsize=(11,6), \n",
    "                      y='pct_rec_f_in', \n",
    "                      x='state', \n",
    "                      color='#cccccc',\n",
    "                      rot=90)\n",
    "plt.title('Percentage of Population Meeting Recommended Fruit Intake',\n",
    "          fontdict={'fontsize':16},\n",
    "          color='#4C4C4C',\n",
    "          weight='bold')\n",
    "plt.xlabel('State', \n",
    "           fontdict={'fontsize':14}, \n",
    "           color='#2499BE')\n",
    "plt.ylabel('Percentage', \n",
    "           fontdict={'fontsize':14}, \n",
    "           color='#2499BE')\n",
    "plt.xticks(rotation=90, \n",
    "           size=11)\n",
    "ax.legend(['% of Population'])\n",
    "#ax.tick_params(axis='both', which='major', labelsize=9)\n",
    "ax.set_facecolor('#2499BE')\n",
    "lowest = ax.patches     \n",
    "for i in range(10):\n",
    "    lowest[i].set_facecolor(\"#4f4f4f\")   # highlight the lowest 10 states"
   ]
  },
  {
   "cell_type": "code",
   "execution_count": null,
   "id": "2055bab1",
   "metadata": {},
   "outputs": [],
   "source": [
    "# create geoDF for fruit intake choropleth\n",
    "fruit_intake_gdf = pd.merge(fruit_intake_df,state_lines, on='state', how='inner')"
   ]
  },
  {
   "cell_type": "code",
   "execution_count": null,
   "id": "3db33463",
   "metadata": {},
   "outputs": [],
   "source": [
    "# get rid of hawaii and alaska for contiguous USA only\n",
    "fruit_intake_gdf = fruit_intake_gdf[~fruit_intake_gdf[\"state\"].isin([\"Hawaii\", \"Alaska\"])]\n",
    "# make it geo\n",
    "fruit_intake_gdf = gpd.GeoDataFrame(fruit_intake_gdf, geometry='geometry')\n",
    "# make sure its epsg4326\n",
    "fruit_intake_gdf = fruit_intake_gdf.to_crs(\"EPSG:4326\")"
   ]
  },
  {
   "cell_type": "code",
   "execution_count": null,
   "id": "5e2a38ab",
   "metadata": {
    "scrolled": true
   },
   "outputs": [],
   "source": [
    "#fruit_intake_gdf.to_csv('../data/geo_fruit_intake.csv') "
   ]
  },
  {
   "cell_type": "code",
   "execution_count": null,
   "id": "d82af2aa",
   "metadata": {
    "scrolled": false
   },
   "outputs": [],
   "source": [
    "# map it using geoplot\n",
    "import mapclassify   # use this for quantile separation for visual clarity\n",
    "\n",
    "# set min and max lon and lat for USA map extents (zoom in)\n",
    "min_lon, max_lon = -125, -65\n",
    "min_lat, max_lat = 24, 50\n",
    "# plot map\n",
    "\n",
    "ax = gplt.choropleth(fruit_intake_gdf,\n",
    "                   hue=\"pct_rec_f_in\",\n",
    "                   #scheme=mapclassify.Quantiles(fruit_intake_gdf[\"pct_rec_f_in\"], k=4),\n",
    "                   cmap=\"gist_earth_r\", #edgecolor=\"grey\",\n",
    "                   extent=(-172,10, 10,75),\n",
    "                   projection=gcrs.WebMercator(),\n",
    "                   #legend_labels=[\"Least Met Recommended\", \"Somewhat Met\", \"Better\",\"Best\"],\n",
    "                   #legend_kwargs={\"loc\":\"best\",\n",
    "                   #               \"fontsize\": \"small\",\n",
    "                   #              \"title\":\"% of Sample Size\",\n",
    "                   #               \"title_fontsize\":\"medium\"},\n",
    "                   figsize=(8,6), legend=True);\n",
    "\n",
    "gplt.polyplot(state_lines, \n",
    "              linewidth=0.8,\n",
    "              ax=ax\n",
    ")\n",
    "\n",
    "\n",
    "ax.set_extent((min_lon, max_lon, min_lat, max_lat))\n",
    "ax.set_facecolor('#2499BE')\n",
    "#ax.set_axis_bgcolor(\"#2499BE\")\n",
    "\n",
    "plt.title(\"Percent of Population Meeting Recommended Intake\", \n",
    "          fontdict={\"fontsize\": 16}, \n",
    "          pad=12,\n",
    "          color='#4c4c4c');\n",
    "\n",
    "#make this a color gradient"
   ]
  },
  {
   "cell_type": "code",
   "execution_count": null,
   "id": "71f92b69",
   "metadata": {},
   "outputs": [],
   "source": [
    "# set min and max lon and lat for USA map extents (zoom in)\n",
    "min_lon, max_lon = -125, -65\n",
    "min_lat, max_lat = 24, 50\n",
    "# plot map\n",
    "ax = gplt.choropleth(fruit_intake_gdf,\n",
    "                   hue=\"pct_rec_f_in\",\n",
    "                   scheme=mapclassify.Quantiles(fruit_intake_gdf[\"pct_rec_f_in\"], k=4),\n",
    "                   cmap=\"Blues\", edgecolor=\"grey\",\n",
    "                   extent=(-172,10, 10,75),\n",
    "                   projection=gcrs.WebMercator(),\n",
    "                   #legend_labels=[\"Least Met Recommended\", \"Somewhat Met\", \"Better\",\"Best\"],\n",
    "                   legend_kwargs={\"loc\":\"best\",\n",
    "                                  \"fontsize\": \"small\",\n",
    "                                 \"title\":\"% of Sample Size\",\n",
    "                                  \"title_fontsize\":\"medium\"},\n",
    "                   figsize=(8,6), legend=True);\n",
    "\n",
    "#gplt.polyplot(state_lines, \n",
    "#              linewidth=0.5,\n",
    "#              ax=ax\n",
    "#)\n",
    "\n",
    "ax.set_extent((min_lon, max_lon, min_lat, max_lat))\n",
    "ax.set_facecolor('lightgrey')\n",
    "plt.title(\"Percent of Population Meeting Recommended Intake\", fontdict={\"fontsize\": 14}, pad=5);"
   ]
  },
  {
   "cell_type": "markdown",
   "id": "862a6915",
   "metadata": {},
   "source": [
    "## Health data and demographics"
   ]
  },
  {
   "cell_type": "code",
   "execution_count": null,
   "id": "d3f9a00b",
   "metadata": {},
   "outputs": [],
   "source": [
    "# bring stuff in\n",
    "age_less = pd.read_csv('../data/age-pct_adults_less_than_1x_day.csv')\n",
    "edu_less = pd.read_csv('../data/edu-pct_adults_less_than_1x_day.csv')\n",
    "ob_edu_2011 = pd.read_csv('../data/edu_obesity_2011.csv')\n",
    "ob_edu_2022 = pd.read_csv('../data/edu_obesity_2022_.csv')\n",
    "ob_total_2011 = pd.read_csv('../data/obesity_2011_total.csv')\n",
    "ob_total_2020 = pd.read_csv('../data/obesity_2020_total.csv')"
   ]
  },
  {
   "cell_type": "code",
   "execution_count": null,
   "id": "16240bea",
   "metadata": {},
   "outputs": [],
   "source": [
    "# function to view column names in a dataframe\n",
    "def getColumns(df):\n",
    "    for col in df.columns:\n",
    "        print(col)"
   ]
  },
  {
   "cell_type": "code",
   "execution_count": null,
   "id": "476f881d",
   "metadata": {},
   "outputs": [],
   "source": [
    "# trim columns for easier manipulation (fruit intake less than 1x per day)\n",
    "trim_age_less = age_less[['Stratification1','Data_Value']]\n",
    "trim_edu_less = edu_less[['Stratification1','Data_Value']]"
   ]
  },
  {
   "cell_type": "code",
   "execution_count": null,
   "id": "80c1a1fa",
   "metadata": {},
   "outputs": [],
   "source": [
    "# national adult obesity"
   ]
  },
  {
   "cell_type": "code",
   "execution_count": null,
   "id": "037e38f1",
   "metadata": {
    "scrolled": true
   },
   "outputs": [],
   "source": [
    "ob_tot_2011_drop = ob_total_2011[ob_total_2011['LocationDesc'].notna()]\n",
    "ob_tot_2011_drop = ob_tot_2011_drop.loc[ob_tot_2011_drop['LocationDesc'] != 'National']"
   ]
  },
  {
   "cell_type": "code",
   "execution_count": null,
   "id": "2234a204",
   "metadata": {},
   "outputs": [],
   "source": [
    "ob_tot_2020_drop = ob_total_2020[ob_total_2020['LocationDesc'].notna()]\n",
    "ob_tot_2020_drop = ob_tot_2020_drop.loc[ob_tot_2020_drop['LocationDesc'] != 'National']"
   ]
  },
  {
   "cell_type": "code",
   "execution_count": null,
   "id": "20ca7570",
   "metadata": {},
   "outputs": [],
   "source": [
    "ob_tot_2011_drop=ob_tot_2011_drop.sort_values(by='Data_Value', ascending=False)"
   ]
  },
  {
   "cell_type": "markdown",
   "id": "4166b516",
   "metadata": {},
   "source": [
    "### Graph"
   ]
  },
  {
   "cell_type": "code",
   "execution_count": null,
   "id": "775e4f5e",
   "metadata": {
    "scrolled": false
   },
   "outputs": [],
   "source": [
    "ax = ob_tot_2011_drop.plot.bar(x='LocationDesc', y='Data_Value', label='percent', figsize=(8,6))\n",
    "#ob_tot_2020_drop.plot(ax = ax, x='LocationAbbr', y='Data_Value', label='2020')\n",
    "plt.title('National Percentage of Adult Obesity (2011)')\n",
    "plt.legend(title='Percentage of State Population')\n",
    "highest = ax.patches     \n",
    "for i in range(10):\n",
    "    highest[i].set_facecolor(\"#A2052B\")   # highlight the lowest 10 states\n",
    "plt.show()"
   ]
  },
  {
   "cell_type": "code",
   "execution_count": null,
   "id": "b7b66474",
   "metadata": {},
   "outputs": [],
   "source": [
    "ob_tot_2020_drop=ob_tot_2020_drop.sort_values(by='Data_Value', ascending=False)"
   ]
  },
  {
   "cell_type": "markdown",
   "id": "a83601de",
   "metadata": {},
   "source": [
    "### Graph"
   ]
  },
  {
   "cell_type": "code",
   "execution_count": null,
   "id": "51d39b33",
   "metadata": {},
   "outputs": [],
   "source": [
    "ax = ob_tot_2020_drop.plot.bar(x='LocationDesc', \n",
    "                               y='Data_Value', \n",
    "                               label='State Percentage', \n",
    "                               figsize=(11,6),\n",
    "                               color='#cccccc')\n",
    "\n",
    "#ob_tot_2020_drop.plot(ax = ax, x='LocationAbbr', y='Data_Value', label='2020')\n",
    "plt.title('National Percentage of Adult Obesity by State (2020)',\n",
    "          fontdict={'fontsize':16},\n",
    "          color='#4C4C4C',\n",
    "          weight='bold')\n",
    "plt.xlabel(\"States\", \n",
    "           fontdict={'fontsize':14}, \n",
    "           color='#2499BE')\n",
    "plt.xticks(rotation=90, \n",
    "           size=11)\n",
    "plt.ylabel(\"National Percentage\", fontdict={'fontsize':14}, color='#2499BE')\n",
    "plt.legend(title='Percentage of State Population')\n",
    "highest = ax.patches     \n",
    "for i in range(10):\n",
    "    highest[i].set_facecolor(\"#4f4f4f\") # highlight the lowest 10 states\n",
    "ax.set_facecolor('#2499BE')\n",
    "    \n",
    "plt.show()"
   ]
  },
  {
   "cell_type": "code",
   "execution_count": null,
   "id": "d546249b",
   "metadata": {},
   "outputs": [],
   "source": [
    "ob_tot_2011_drop = ob_tot_2011_drop.filter(['LocationDesc','LocationAbbr','Data_Value','GeoLocation_Lat','GeoLocation_Long'], axis=1)\n",
    "ob_tot_2020_drop = ob_tot_2020_drop.filter(['LocationDesc','LocationAbbr','Data_Value','GeoLocation_Lat','GeoLocation_Long'], axis=1)"
   ]
  },
  {
   "cell_type": "code",
   "execution_count": null,
   "id": "dad5313a",
   "metadata": {},
   "outputs": [],
   "source": [
    "#obesity education level"
   ]
  },
  {
   "cell_type": "code",
   "execution_count": null,
   "id": "1681e7b5",
   "metadata": {},
   "outputs": [],
   "source": [
    "ob_edu_trim22 = ob_edu_2022[['LocationDesc','Stratification1','Data_Value']]\n",
    "ob_edu_national22 = ob_edu_trim22.loc[ob_edu_trim22['LocationDesc'] == 'National']"
   ]
  },
  {
   "cell_type": "code",
   "execution_count": null,
   "id": "1e2964aa",
   "metadata": {},
   "outputs": [],
   "source": [
    "ob_edu_trim11 = ob_edu_2011[['LocationDesc','Stratification1','Data_Value']]\n",
    "ob_edu_national11 = ob_edu_trim11.loc[ob_edu_trim11['LocationDesc'] == 'National']"
   ]
  },
  {
   "cell_type": "markdown",
   "id": "5be95f89",
   "metadata": {},
   "source": [
    "### Graph"
   ]
  },
  {
   "cell_type": "code",
   "execution_count": null,
   "id": "c099ad38",
   "metadata": {},
   "outputs": [],
   "source": [
    "plt.rcParams[\"figure.figsize\"] = [10, 3.50]\n",
    "plt.rcParams[\"figure.autolayout\"] = True\n",
    "\n",
    "ax = ob_edu_national11.plot(x='Stratification1', y='Data_Value', label='2011')\n",
    "ob_edu_national22.plot(ax = ax, x='Stratification1', y='Data_Value', label='2022')\n",
    "plt.title('National Percentage of Adult Obesity by Education Level (2011 vs 2022)')\n",
    "plt.show()"
   ]
  },
  {
   "cell_type": "code",
   "execution_count": null,
   "id": "5b2775b0",
   "metadata": {},
   "outputs": [],
   "source": [
    "X = ob_edu_national11['Stratification1']\n",
    "Y11 = ob_edu_national11['Data_Value']\n",
    "Z22 = ob_edu_national22['Data_Value']\n",
    "X_axis = np.arange(len(X))\n",
    "\n",
    "plt.figure(facecolor='#0F9BBC', figsize=(9,5))\n",
    "ax = plt.axes()\n",
    "ax.set_facecolor(\"#0F9BBC\")\n",
    "\n",
    "plt.bar(X_axis - 0.2, Y11, 0.4, label = '2011', color='#ffffee')\n",
    "plt.bar(X_axis + 0.2, Z22, 0.4, label = '2022', color='darkgrey')\n",
    "plt.grid(axis='y', linestyle = '--')\n",
    "plt.xticks(X_axis, X, rotation=27.5, color='white')\n",
    "plt.yticks(color='white')\n",
    "plt.xlabel(\"Education Level\", \n",
    "           color='#0f0f0f', \n",
    "           fontdict={\"fontsize\": 14}, \n",
    "           labelpad=10)\n",
    "plt.ylabel(\"National Percentage\", \n",
    "           color='#0f0f0f', \n",
    "           fontdict={\"fontsize\": 14},\n",
    "           labelpad=6)\n",
    "plt.title(\"Percentage of Obesity in Adults by Level of Education\", \n",
    "          color='white', \n",
    "          weight='bold', \n",
    "          fontdict={\"fontsize\": 16},\n",
    "          pad=10)\n",
    "plt.legend(title='Year')\n",
    "plt.show()\n",
    "#ax.bar(ob_edu_national11['Stratification1'], ob_edu_national11['Data_Value'], width=0.2, color='b')\n",
    "#ax.bar(ob_edu_national22['Stratification1'], ob_edu_national22['Data_Value'], width=0.2, color='r')\n"
   ]
  },
  {
   "cell_type": "code",
   "execution_count": null,
   "id": "cdb82935",
   "metadata": {},
   "outputs": [],
   "source": [
    "import seaborn as sns"
   ]
  },
  {
   "cell_type": "code",
   "execution_count": null,
   "id": "ceb4a1ac",
   "metadata": {},
   "outputs": [],
   "source": [
    "ob_tot_2020_drop = ob_tot_2020_drop[~ob_tot_2020_drop[\"LocationDesc\"].isin([\"Guam\", \"Puerto Rico\"])]"
   ]
  }
 ],
 "metadata": {
  "kernelspec": {
   "display_name": "Python 3 (ipykernel)",
   "language": "python",
   "name": "python3"
  },
  "language_info": {
   "codemirror_mode": {
    "name": "ipython",
    "version": 3
   },
   "file_extension": ".py",
   "mimetype": "text/x-python",
   "name": "python",
   "nbconvert_exporter": "python",
   "pygments_lexer": "ipython3",
   "version": "3.9.13"
  }
 },
 "nbformat": 4,
 "nbformat_minor": 5
}
