{
 "cells": [
  {
   "cell_type": "code",
   "execution_count": null,
   "id": "26fd7585",
   "metadata": {},
   "outputs": [],
   "source": [
    "import pandas as pd\n",
    "import matplotlib.pyplot as plt\n",
    "import geopandas as gpd\n",
    "import geoplot as gplt\n",
    "import geoplot.crs as gcrs"
   ]
  },
  {
   "cell_type": "code",
   "execution_count": null,
   "id": "d9bcce50",
   "metadata": {},
   "outputs": [],
   "source": [
    "#read in Intake DF CSV\n",
    "intake_df = pd.read_csv('../data/intake_df.csv')"
   ]
  },
  {
   "cell_type": "code",
   "execution_count": null,
   "id": "a78dc419",
   "metadata": {},
   "outputs": [],
   "source": [
    "# reorganize results of table and place relevant columns\n",
    "fruit_intake_df = intake_df[['state','sample_size','pct_rec_f_in','med_f_in_freq']]\n",
    "# remove parenthesis number range in string\n",
    "fruit_intake_df['pct_rec_f_in'] = intake_df['pct_rec_f_in'].str[0:4]\n",
    "# convert to float\n",
    "fruit_intake_df['pct_rec_f_in'] = fruit_intake_df['pct_rec_f_in'].astype(float)\n",
    "# more floats\n",
    "fruit_intake_df['med_f_in_freq'] = fruit_intake_df['med_f_in_freq'].astype(float)\n",
    "# string fix to int\n",
    "fruit_intake_df['sample_size'] = fruit_intake_df['sample_size'].str.replace(',','')\n",
    "fruit_intake_df['sample_size'] = fruit_intake_df['sample_size'].astype(int)"
   ]
  },
  {
   "cell_type": "code",
   "execution_count": null,
   "id": "42e80335",
   "metadata": {},
   "outputs": [],
   "source": [
    "# bring in geodata for maps\n",
    "state_lines = gpd.read_file('/home/nhac/Documents/NSS/Python/projects/fruit_zones_capstone/data/gz_2010_us_040_00_500k.json')\n",
    "hardiness_zone = gpd.read_file('/home/nhac/Documents/NSS/Python/projects/fruit_zones_capstone/data/us-hardiness-zones_1291.geojson')"
   ]
  },
  {
   "cell_type": "code",
   "execution_count": null,
   "id": "a2d869cc",
   "metadata": {},
   "outputs": [],
   "source": [
    "# add column for geodataframe merge\n",
    "state_lines['state'] = state_lines['NAME']"
   ]
  },
  {
   "cell_type": "code",
   "execution_count": null,
   "id": "5afce6b8",
   "metadata": {},
   "outputs": [],
   "source": [
    "# get lowest percent states\n",
    "low_pct = fruit_intake_df.sort_values(by='pct_rec_f_in')\n",
    "# maybe need these 5 for closer comparison later\n",
    "low_five = low_pct.head()\n",
    "low_five_geo = low_five.merge(state_lines, on='state', how='inner')"
   ]
  },
  {
   "cell_type": "code",
   "execution_count": null,
   "id": "11cdad71",
   "metadata": {},
   "outputs": [],
   "source": [
    "# create geodataframe from the lowest five states\n",
    "low_five_geo = gpd.GeoDataFrame(low_five_geo, geometry='geometry')"
   ]
  },
  {
   "cell_type": "code",
   "execution_count": null,
   "id": "3ed38f7e",
   "metadata": {},
   "outputs": [],
   "source": [
    "# map lowest 5, did not need above geoDF...\n",
    "ax = low_pct.plot.bar(figsize=(8,6), y='pct_rec_f_in', x='state', rot=90)\n",
    "plt.title('Percentage of Population Meeting Recommended Fruit Intake')\n",
    "plt.xlabel('State')\n",
    "plt.ylabel('Percentage')\n",
    "ax.legend(['% of Population'])\n",
    "ax.tick_params(axis='both', which='major', labelsize=9)\n",
    "ax.set_facecolor('lightgrey')\n",
    "lowest = ax.patches     \n",
    "for i in range(10):\n",
    "    lowest[i].set_facecolor(\"#A2052B\")   # highlight the lowest 10 states"
   ]
  },
  {
   "cell_type": "code",
   "execution_count": null,
   "id": "a1123c0d",
   "metadata": {},
   "outputs": [],
   "source": [
    "# create geoDF for fruit intake choropleth\n",
    "fruit_intake_gdf = pd.merge(fruit_intake_df,state_lines, on='state', how='inner')"
   ]
  },
  {
   "cell_type": "code",
   "execution_count": null,
   "id": "d2236929",
   "metadata": {},
   "outputs": [],
   "source": [
    "# get rid of hawaii and alaska for contiguous USA only\n",
    "fruit_intake_gdf = fruit_intake_gdf[~fruit_intake_gdf[\"state\"].isin([\"Hawaii\", \"Alaska\"])]\n",
    "# make it geo\n",
    "fruit_intake_gdf = gpd.GeoDataFrame(fruit_intake_gdf, geometry='geometry')\n",
    "# make sure its epsg4326\n",
    "fruit_intake_gdf = fruit_intake_gdf.to_crs(\"EPSG:4326\")"
   ]
  },
  {
   "cell_type": "code",
   "execution_count": null,
   "id": "9c2cb4f2",
   "metadata": {},
   "outputs": [],
   "source": [
    "# map it using geoplot\n",
    "import mapclassify   # use this for quantile separation for visual clarity\n",
    "\n",
    "# set min and max lon and lat for USA map extents (zoom in)\n",
    "min_lon, max_lon = -125, -65\n",
    "min_lat, max_lat = 24, 50\n",
    "# plot map\n",
    "ax = gplt.choropleth(fruit_intake_gdf,\n",
    "                   hue=\"pct_rec_f_in\",\n",
    "                   scheme=mapclassify.Quantiles(fruit_intake_gdf[\"pct_rec_f_in\"], k=4),\n",
    "                   cmap=\"RdYlBu\", edgecolor=\"white\",\n",
    "                   extent=(-172,10, 10,75),\n",
    "                   projection=gcrs.WebMercator(),\n",
    "                   #legend_labels=[\"Least Met Recommended\", \"Somewhat Met\", \"Better\",\"Best\"],\n",
    "                   legend_kwargs={\"loc\":\"best\",\n",
    "                                  \"fontsize\": \"small\",\n",
    "                                  \"title\":\"% of Sample Size\",\n",
    "                                  \"title_fontsize\":\"medium\"},\n",
    "                   figsize=(8,6), legend=True);\n",
    "ax.set_extent((min_lon, max_lon, min_lat, max_lat))\n",
    "ax.set_facecolor('lightgrey')\n",
    "plt.title(\"Percent of Population Meeting Recommended Intake\", fontdict={\"fontsize\": 14}, pad=5);"
   ]
  },
  {
   "cell_type": "markdown",
   "id": "a28e5d4e",
   "metadata": {},
   "source": [
    "#### Health data and demographics"
   ]
  },
  {
   "cell_type": "code",
   "execution_count": null,
   "id": "3903824a",
   "metadata": {},
   "outputs": [],
   "source": [
    "# bring stuff in\n",
    "age_less = pd.read_csv('../data/age-pct_adults_less_than_1x_day.csv')\n",
    "edu_less = pd.read_csv('../data/edu-pct_adults_less_than_1x_day.csv')\n",
    "ob_edu_2011 = pd.read_csv('../data/edu_obesity_2011.csv')\n",
    "ob_edu_2022 = pd.read_csv('../data/edu_obesity_2022_.csv')\n",
    "ob_total_2011 = pd.read_csv('../data/obesity_2011_total.csv')\n",
    "ob_total_2020 = pd.read_csv('../data/obesity_2020_total.csv')"
   ]
  },
  {
   "cell_type": "code",
   "execution_count": null,
   "id": "1f002d88",
   "metadata": {},
   "outputs": [],
   "source": [
    "# function to view column names in a dataframe\n",
    "def getColumns(df):\n",
    "    for col in df.columns:\n",
    "        print(col)"
   ]
  },
  {
   "cell_type": "code",
   "execution_count": null,
   "id": "55453042",
   "metadata": {},
   "outputs": [],
   "source": [
    "# trim columns for easier manipulation (fruit intake less than 1x per day)\n",
    "trim_age_less = age_less[['Stratification1','Data_Value']]\n",
    "trim_edu_less = edu_less[['Stratification1','Data_Value']]"
   ]
  },
  {
   "cell_type": "code",
   "execution_count": null,
   "id": "a2527644",
   "metadata": {},
   "outputs": [],
   "source": [
    "# national adult obesity"
   ]
  },
  {
   "cell_type": "code",
   "execution_count": null,
   "id": "fe204bdc",
   "metadata": {
    "scrolled": true
   },
   "outputs": [],
   "source": [
    "ob_tot_2011_drop = ob_total_2011[ob_total_2011['LocationDesc'].notna()]\n",
    "ob_tot_2011_drop = ob_tot_2011_drop.loc[ob_tot_2011_drop['LocationDesc'] != 'National']"
   ]
  },
  {
   "cell_type": "code",
   "execution_count": null,
   "id": "809518ea",
   "metadata": {},
   "outputs": [],
   "source": [
    "ob_tot_2020_drop = ob_total_2020[ob_total_2020['LocationDesc'].notna()]\n",
    "ob_tot_2020_drop = ob_tot_2020_drop.loc[ob_tot_2020_drop['LocationDesc'] != 'National']"
   ]
  },
  {
   "cell_type": "code",
   "execution_count": null,
   "id": "39f194ee",
   "metadata": {},
   "outputs": [],
   "source": []
  },
  {
   "cell_type": "code",
   "execution_count": null,
   "id": "6e2c5174",
   "metadata": {},
   "outputs": [],
   "source": [
    "ob_tot_2011_drop=ob_tot_2011_drop.sort_values(by='Data_Value', ascending=False)"
   ]
  },
  {
   "cell_type": "code",
   "execution_count": null,
   "id": "fcada5f5",
   "metadata": {
    "scrolled": false
   },
   "outputs": [],
   "source": [
    "ax = ob_tot_2011_drop.plot.bar(x='LocationDesc', y='Data_Value', label='percent', figsize=(8,6))\n",
    "#ob_tot_2020_drop.plot(ax = ax, x='LocationAbbr', y='Data_Value', label='2020')\n",
    "plt.title('National Percentage of Adult Obesity (2011)')\n",
    "plt.legend(title='Percentage of State Population')\n",
    "highest = ax.patches     \n",
    "for i in range(10):\n",
    "    highest[i].set_facecolor(\"#A2052B\")   # highlight the lowest 10 states\n",
    "plt.show()"
   ]
  },
  {
   "cell_type": "code",
   "execution_count": null,
   "id": "2fe7816d",
   "metadata": {},
   "outputs": [],
   "source": [
    "ob_tot_2020_drop=ob_tot_2020_drop.sort_values(by='Data_Value', ascending=False)"
   ]
  },
  {
   "cell_type": "code",
   "execution_count": null,
   "id": "6a42f423",
   "metadata": {},
   "outputs": [],
   "source": [
    "ax = ob_tot_2020_drop.plot.bar(x='LocationDesc', y='Data_Value', label='percent', figsize=(8,6))\n",
    "#ob_tot_2020_drop.plot(ax = ax, x='LocationAbbr', y='Data_Value', label='2020')\n",
    "plt.title('National Percentage of Adult Obesity (2020)')\n",
    "plt.legend(title='Percentage of State Population')\n",
    "highest = ax.patches     \n",
    "for i in range(10):\n",
    "    highest[i].set_facecolor(\"#A2052B\")   # highlight the lowest 10 states\n",
    "plt.show()"
   ]
  },
  {
   "cell_type": "code",
   "execution_count": null,
   "id": "ff77f9b1",
   "metadata": {},
   "outputs": [],
   "source": [
    "ob_tot_2011_drop = ob_tot_2011_drop.filter(['LocationDesc','LocationAbbr','Data_Value','GeoLocation_Lat','GeoLocation_Long'], axis=1)\n",
    "ob_tot_2020_drop = ob_tot_2020_drop.filter(['LocationDesc','LocationAbbr','Data_Value','GeoLocation_Lat','GeoLocation_Long'], axis=1)"
   ]
  },
  {
   "cell_type": "code",
   "execution_count": null,
   "id": "07e8b03b",
   "metadata": {},
   "outputs": [],
   "source": [
    "#obesity education level"
   ]
  },
  {
   "cell_type": "code",
   "execution_count": null,
   "id": "590b9001",
   "metadata": {},
   "outputs": [],
   "source": [
    "ob_edu_trim22 = ob_edu_2022[['LocationDesc','Stratification1','Data_Value']]\n",
    "ob_edu_national22 = ob_edu_trim22.loc[ob_edu_trim['LocationDesc'] == 'National']"
   ]
  },
  {
   "cell_type": "code",
   "execution_count": null,
   "id": "1bbf0af4",
   "metadata": {},
   "outputs": [],
   "source": [
    "ob_edu_trim11 = ob_edu_2011[['LocationDesc','Stratification1','Data_Value']]\n",
    "ob_edu_national11 = ob_edu_trim11.loc[ob_edu_trim['LocationDesc'] == 'National']"
   ]
  },
  {
   "cell_type": "code",
   "execution_count": null,
   "id": "254f6833",
   "metadata": {},
   "outputs": [],
   "source": [
    "plt.rcParams[\"figure.figsize\"] = [10, 3.50]\n",
    "plt.rcParams[\"figure.autolayout\"] = True\n",
    "\n",
    "ax = ob_edu_national11.plot(x='Stratification1', y='Data_Value', label='2011')\n",
    "ob_edu_national22.plot(ax = ax, x='Stratification1', y='Data_Value', label='2022')\n",
    "plt.title('National Percentage of Adult Obesity by Education Level (2011 vs 2022)')\n",
    "plt.show()"
   ]
  },
  {
   "cell_type": "code",
   "execution_count": null,
   "id": "aa707161",
   "metadata": {},
   "outputs": [],
   "source": []
  }
 ],
 "metadata": {
  "kernelspec": {
   "display_name": "Python 3 (ipykernel)",
   "language": "python",
   "name": "python3"
  },
  "language_info": {
   "codemirror_mode": {
    "name": "ipython",
    "version": 3
   },
   "file_extension": ".py",
   "mimetype": "text/x-python",
   "name": "python",
   "nbconvert_exporter": "python",
   "pygments_lexer": "ipython3",
   "version": "3.9.15"
  }
 },
 "nbformat": 4,
 "nbformat_minor": 5
}
