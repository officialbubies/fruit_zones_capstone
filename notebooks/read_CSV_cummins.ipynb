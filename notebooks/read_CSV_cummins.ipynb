{
 "cells": [
  {
   "cell_type": "code",
   "execution_count": null,
   "id": "a1137c9d",
   "metadata": {},
   "outputs": [],
   "source": [
    "from shapely.geometry import Point\n",
    "import pandas as pd\n",
    "import geopandas as gpd\n",
    "import matplotlib.pyplot as plt\n",
    "import folium\n",
    "from folium.plugins import MarkerCluster\n",
    "from folium.plugins import FastMarkerCluster\n"
   ]
  },
  {
   "cell_type": "code",
   "execution_count": null,
   "id": "91ab9542",
   "metadata": {},
   "outputs": [],
   "source": [
    "cummins_df = pd.read_csv('/home/nhac/Documents/NSS/Python/capstone/cummins_scrape_1.csv')"
   ]
  },
  {
   "cell_type": "code",
   "execution_count": null,
   "id": "df0462ee",
   "metadata": {
    "scrolled": false
   },
   "outputs": [],
   "source": [
    "cummins_df"
   ]
  },
  {
   "cell_type": "code",
   "execution_count": null,
   "id": "e358219b",
   "metadata": {},
   "outputs": [],
   "source": [
    "Apple_df = cummins_df[['zone_Apple3','zone_Apple4','zone_Apple5','zone_Apple6','zone_Apple7','zone_Apple8','zone_Apple9']]"
   ]
  },
  {
   "cell_type": "code",
   "execution_count": null,
   "id": "4d7c970f",
   "metadata": {},
   "outputs": [],
   "source": [
    "Peach_df = cummins_df[['zone_Peach3','zone_Peach4','zone_Peach5','zone_Peach6','zone_Peach7','zone_Peach8','zone_Peach9']]"
   ]
  },
  {
   "cell_type": "code",
   "execution_count": null,
   "id": "7ca683c9",
   "metadata": {},
   "outputs": [],
   "source": [
    "Cherry_df = cummins_df[['zone_Cherry3','zone_Cherry4','zone_Cherry5','zone_Cherry6','zone_Cherry7','zone_Cherry8','zone_Cherry9']]"
   ]
  },
  {
   "cell_type": "code",
   "execution_count": null,
   "id": "d4ca3599",
   "metadata": {},
   "outputs": [],
   "source": [
    "Apricot_df = cummins_df[['zone_Apricot3','zone_Apricot4','zone_Apricot5','zone_Apricot6','zone_Apricot7','zone_Apricot8','zone_Apricot9']]"
   ]
  },
  {
   "cell_type": "code",
   "execution_count": null,
   "id": "df65e8ef",
   "metadata": {
    "scrolled": true
   },
   "outputs": [],
   "source": [
    "zone_3 = cummins_df[['zone_Apple3','zone_Peach3','zone_Plum3','zone_Pear3','zone_Nectarine3','zone_Cherry3','zone_Apricot3']]"
   ]
  },
  {
   "cell_type": "code",
   "execution_count": null,
   "id": "4b03735b",
   "metadata": {},
   "outputs": [],
   "source": [
    "zone_3['zone'] = 3"
   ]
  },
  {
   "cell_type": "code",
   "execution_count": null,
   "id": "6c632fa8",
   "metadata": {},
   "outputs": [],
   "source": [
    "zone_3"
   ]
  },
  {
   "cell_type": "code",
   "execution_count": null,
   "id": "a9d95f73",
   "metadata": {},
   "outputs": [],
   "source": [
    "zone_4 = cummins_df[['zone_Apple4','zone_Peach4','zone_Plum4','zone_Pear4','zone_Nectarine4','zone_Cherry4','zone_Apricot4']]"
   ]
  },
  {
   "cell_type": "code",
   "execution_count": null,
   "id": "89c0441d",
   "metadata": {},
   "outputs": [],
   "source": [
    "zone_5 = cummins_df[['zone_Apple5','zone_Peach5','zone_Plum5','zone_Pear5','zone_Nectarine5','zone_Cherry5','zone_Apricot5']]"
   ]
  },
  {
   "cell_type": "code",
   "execution_count": null,
   "id": "0ac5205d",
   "metadata": {},
   "outputs": [],
   "source": [
    "zone_6 = cummins_df[['zone_Apple6','zone_Peach6','zone_Plum6','zone_Pear6','zone_Nectarine6','zone_Cherry6','zone_Apricot6']]"
   ]
  },
  {
   "cell_type": "code",
   "execution_count": null,
   "id": "9fb4b7da",
   "metadata": {},
   "outputs": [],
   "source": [
    "zone_7 = cummins_df[['zone_Apple7','zone_Peach7','zone_Plum7','zone_Pear7','zone_Nectarine7','zone_Cherry7','zone_Apricot7']]"
   ]
  },
  {
   "cell_type": "code",
   "execution_count": null,
   "id": "4f6525c2",
   "metadata": {},
   "outputs": [],
   "source": [
    "zone_8 = cummins_df[['zone_Apple8','zone_Peach8','zone_Plum8','zone_Pear8','zone_Nectarine8','zone_Cherry8','zone_Apricot8']]"
   ]
  },
  {
   "cell_type": "code",
   "execution_count": null,
   "id": "f2ab0569",
   "metadata": {},
   "outputs": [],
   "source": [
    "zone_9 = cummins_df[['zone_Apple9','zone_Peach9','zone_Plum9','zone_Pear9','zone_Nectarine9','zone_Cherry9','zone_Apricot9']]"
   ]
  },
  {
   "cell_type": "code",
   "execution_count": null,
   "id": "7d44107e",
   "metadata": {},
   "outputs": [],
   "source": [
    "zone_9"
   ]
  },
  {
   "cell_type": "code",
   "execution_count": null,
   "id": "6a5f2f51",
   "metadata": {
    "scrolled": true
   },
   "outputs": [],
   "source": [
    "main_df = pd.DataFrame(columns=['zone','fruit_name','category','centroid'])\n",
    "main_df"
   ]
  },
  {
   "cell_type": "code",
   "execution_count": null,
   "id": "4dc751e6",
   "metadata": {},
   "outputs": [],
   "source": [
    "geo_h_zones = gpd.read_file('../data/us-hardiness-zones_1291.geojson')"
   ]
  },
  {
   "cell_type": "code",
   "execution_count": null,
   "id": "0c6443d7",
   "metadata": {},
   "outputs": [],
   "source": [
    "geo_h_zones = geo_h_zones.rename(columns={'name':'zone'})"
   ]
  },
  {
   "cell_type": "code",
   "execution_count": null,
   "id": "ff625b90",
   "metadata": {},
   "outputs": [],
   "source": [
    "geo_h_zones = geo_h_zones.to_crs(epsg=4326)"
   ]
  },
  {
   "cell_type": "code",
   "execution_count": null,
   "id": "671359db",
   "metadata": {},
   "outputs": [],
   "source": [
    "type(geo_h_zones)"
   ]
  },
  {
   "cell_type": "code",
   "execution_count": null,
   "id": "4677f15e",
   "metadata": {},
   "outputs": [],
   "source": [
    "centroid_df = geo_h_zones.geometry.centroid.to_frame(name='centroid')"
   ]
  },
  {
   "cell_type": "code",
   "execution_count": null,
   "id": "3faaad20",
   "metadata": {},
   "outputs": [],
   "source": [
    "geo_df = pd.concat([geo_h_zones, centroid_df] , axis=1)"
   ]
  },
  {
   "cell_type": "code",
   "execution_count": null,
   "id": "0a9d579e",
   "metadata": {
    "scrolled": true
   },
   "outputs": [],
   "source": [
    "print(type(geo_df))\n",
    "geo_df"
   ]
  },
  {
   "cell_type": "code",
   "execution_count": null,
   "id": "6baa0d58",
   "metadata": {},
   "outputs": [],
   "source": []
  },
  {
   "cell_type": "code",
   "execution_count": null,
   "id": "26ad7177",
   "metadata": {},
   "outputs": [],
   "source": [
    "m = folium.Map(location=(31.51073, -96.4247), zoom_start=5, tiles='CartoDB positron')\n"
   ]
  },
  {
   "cell_type": "code",
   "execution_count": null,
   "id": "657df5c3",
   "metadata": {
    "scrolled": false
   },
   "outputs": [],
   "source": [
    "for _, r in geo_df.iterrows():\n",
    "    sim_geo = gpd.GeoSeries(r['geometry']).simplify(tolerance=0.001)\n",
    "    geo_j = sim_geo.to_json()\n",
    "    geo_j = folium.GeoJson(data=geo_j,\n",
    "                           style_function=lambda x: {'fillColor': 'orange'})\n",
    "    \n",
    "    folium.Popup(r['zone']).add_to(geo_j)\n",
    "    geo_j.add_to(m)\n",
    "\n",
    "\n",
    "for _, r in geo_df.iterrows():\n",
    "    lat = r['centroid'].y\n",
    "    lon = r['centroid'].x\n",
    "    folium.Marker(location=[lat, lon]),\n",
    "                   \n",
    "m"
   ]
  },
  {
   "cell_type": "code",
   "execution_count": null,
   "id": "9832faa0",
   "metadata": {},
   "outputs": [],
   "source": []
  },
  {
   "cell_type": "code",
   "execution_count": null,
   "id": "14003277",
   "metadata": {},
   "outputs": [],
   "source": []
  }
 ],
 "metadata": {
  "kernelspec": {
   "display_name": "Python 3 (ipykernel)",
   "language": "python",
   "name": "python3"
  },
  "language_info": {
   "codemirror_mode": {
    "name": "ipython",
    "version": 3
   },
   "file_extension": ".py",
   "mimetype": "text/x-python",
   "name": "python",
   "nbconvert_exporter": "python",
   "pygments_lexer": "ipython3",
   "version": "3.9.13"
  }
 },
 "nbformat": 4,
 "nbformat_minor": 5
}
