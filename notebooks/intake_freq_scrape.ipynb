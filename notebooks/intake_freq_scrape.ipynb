{
 "cells": [
  {
   "cell_type": "code",
   "execution_count": null,
   "id": "5082ec1f",
   "metadata": {},
   "outputs": [],
   "source": [
    "import requests\n",
    "from bs4 import BeautifulSoup\n",
    "import pandas as pd"
   ]
  },
  {
   "cell_type": "code",
   "execution_count": null,
   "id": "4206060c",
   "metadata": {},
   "outputs": [],
   "source": [
    "# get url for table scrape of Intake Frequency data\n",
    "url = 'https://www.cdc.gov/mmwr/volumes/71/wr/mm7101a1.htm'\n",
    "response = requests.get(url)\n",
    "print(response.status_code)"
   ]
  },
  {
   "cell_type": "code",
   "execution_count": null,
   "id": "c55df674",
   "metadata": {},
   "outputs": [],
   "source": [
    "# find the table\n",
    "soup = BeautifulSoup(response.text, 'html.parser')\n",
    "table = soup.find('table', class_='table table-bordered table-responsive')"
   ]
  },
  {
   "cell_type": "code",
   "execution_count": null,
   "id": "56384417",
   "metadata": {
    "scrolled": true
   },
   "outputs": [],
   "source": [
    "# build and populate dataframe from table information\n",
    "intake_df = pd.DataFrame(columns=['state','sample_size','med_f_in_freq','med_v_in_freq','pct_rec_f_in','pct_rec_v_in'])\n",
    "print(intake_df)\n",
    "for row in table.tbody.find_all('tr'):\n",
    "    # Find all data for each column\n",
    "    columns = row.find_all('td')\n",
    "    if(columns != []):\n",
    "        state = columns[0].text\n",
    "        sample_size = columns[1].text\n",
    "        med_f_in_freq = columns[2].text\n",
    "        med_v_in_freq = columns[3].text\n",
    "        pct_rec_f_in = columns[4].text\n",
    "        pct_rec_v_in = columns[5].text\n",
    "        intake_df = intake_df.append({'state': state,  'sample_size': sample_size, 'med_f_in_freq': med_f_in_freq, 'med_v_in_freq': med_v_in_freq, 'pct_rec_f_in': pct_rec_f_in, 'pct_rec_v_in': pct_rec_v_in}, ignore_index=True)"
   ]
  },
  {
   "cell_type": "code",
   "execution_count": null,
   "id": "53c82d43",
   "metadata": {},
   "outputs": [],
   "source": [
    "print('End of Scrape')\n",
    "intake_df.to_csv('../data/intake_df.csv')\n",
    "print('Saved to CSV!')\n",
    "print('See \"health_and_intake.ipynb\"')"
   ]
  }
 ],
 "metadata": {
  "kernelspec": {
   "display_name": "Python 3 (ipykernel)",
   "language": "python",
   "name": "python3"
  },
  "language_info": {
   "codemirror_mode": {
    "name": "ipython",
    "version": 3
   },
   "file_extension": ".py",
   "mimetype": "text/x-python",
   "name": "python",
   "nbconvert_exporter": "python",
   "pygments_lexer": "ipython3",
   "version": "3.9.13"
  }
 },
 "nbformat": 4,
 "nbformat_minor": 5
}
