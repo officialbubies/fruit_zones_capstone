{
 "cells": [
  {
   "cell_type": "code",
   "execution_count": null,
   "id": "2b9ccb1e",
   "metadata": {},
   "outputs": [],
   "source": [
    "import pandas as pd\n",
    "import matplotlib.pyplot as plt\n",
    "import numpy as np"
   ]
  },
  {
   "cell_type": "code",
   "execution_count": null,
   "id": "714c72b4",
   "metadata": {},
   "outputs": [],
   "source": [
    "# read in food access xlsx\n",
    "rd_food_acc = pd.read_excel('/home/nhac/Documents/NSS/Python/capstone/data/FoodAccessResearchAtlasData2019.xlsx', sheet_name=2)"
   ]
  },
  {
   "cell_type": "code",
   "execution_count": null,
   "id": "f76aa7be",
   "metadata": {},
   "outputs": [],
   "source": [
    "#rd_food_acc.head()"
   ]
  },
  {
   "cell_type": "code",
   "execution_count": null,
   "id": "4ade551e",
   "metadata": {},
   "outputs": [],
   "source": [
    "rd_consumption = pd.read_excel('/home/nhac/Documents/NSS/Python/capstone/data/food_consumption.xlsx')"
   ]
  },
  {
   "cell_type": "code",
   "execution_count": null,
   "id": "e21d172a",
   "metadata": {},
   "outputs": [],
   "source": [
    "fruit_consume = rd_consumption.iloc[np.r_[35:43]]"
   ]
  },
  {
   "cell_type": "code",
   "execution_count": null,
   "id": "35cd93ba",
   "metadata": {},
   "outputs": [],
   "source": [
    "fruit_consume"
   ]
  },
  {
   "cell_type": "code",
   "execution_count": null,
   "id": "fa9eef85",
   "metadata": {},
   "outputs": [],
   "source": []
  },
  {
   "cell_type": "code",
   "execution_count": null,
   "id": "46f3c7ce",
   "metadata": {},
   "outputs": [],
   "source": [
    "for consumption_data in table.find_all('tbody'):\n",
    "    rows = consumption_data.find_all('tr')"
   ]
  },
  {
   "cell_type": "code",
   "execution_count": null,
   "id": "5e6d06b0",
   "metadata": {},
   "outputs": [],
   "source": [
    "print(rows)"
   ]
  },
  {
   "cell_type": "code",
   "execution_count": null,
   "id": "a1032e78",
   "metadata": {},
   "outputs": [],
   "source": [
    "perf_list = [x.find('tr').get('td') for x in table]"
   ]
  },
  {
   "cell_type": "code",
   "execution_count": null,
   "id": "efd560d0",
   "metadata": {},
   "outputs": [],
   "source": [
    "states"
   ]
  },
  {
   "cell_type": "code",
   "execution_count": null,
   "id": "03da213d",
   "metadata": {},
   "outputs": [],
   "source": [
    "state_list = [state.text for state in states]"
   ]
  },
  {
   "cell_type": "code",
   "execution_count": null,
   "id": "403debde",
   "metadata": {},
   "outputs": [],
   "source": [
    "state_list"
   ]
  },
  {
   "cell_type": "code",
   "execution_count": null,
   "id": "dd0c2b11",
   "metadata": {},
   "outputs": [],
   "source": []
  },
  {
   "cell_type": "code",
   "execution_count": null,
   "id": "eaf97725",
   "metadata": {},
   "outputs": [],
   "source": [
    "\n"
   ]
  },
  {
   "cell_type": "code",
   "execution_count": null,
   "id": "550014a1",
   "metadata": {},
   "outputs": [],
   "source": []
  }
 ],
 "metadata": {
  "kernelspec": {
   "display_name": "Python 3 (ipykernel)",
   "language": "python",
   "name": "python3"
  },
  "language_info": {
   "codemirror_mode": {
    "name": "ipython",
    "version": 3
   },
   "file_extension": ".py",
   "mimetype": "text/x-python",
   "name": "python",
   "nbconvert_exporter": "python",
   "pygments_lexer": "ipython3",
   "version": "3.9.13"
  }
 },
 "nbformat": 4,
 "nbformat_minor": 5
}
